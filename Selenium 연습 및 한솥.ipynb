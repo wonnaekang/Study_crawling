{
 "cells": [
  {
   "cell_type": "markdown",
   "metadata": {},
   "source": [
    "# Selenium 모듈\n",
    "### --> 웹 페이지를 제어하기 위한 모듈\n",
    "### --> !pip install selenium"
   ]
  },
  {
   "cell_type": "code",
   "execution_count": 1,
   "metadata": {},
   "outputs": [
    {
     "name": "stdout",
     "output_type": "stream",
     "text": [
      "Collecting selenium\n",
      "  Downloading selenium-3.141.0-py2.py3-none-any.whl (904 kB)\n",
      "Requirement already satisfied: urllib3 in c:\\users\\a\\anaconda3\\lib\\site-packages (from selenium) (1.25.9)\n",
      "Installing collected packages: selenium\n",
      "Successfully installed selenium-3.141.0\n"
     ]
    }
   ],
   "source": [
    "!pip install selenium"
   ]
  },
  {
   "cell_type": "code",
   "execution_count": 2,
   "metadata": {},
   "outputs": [],
   "source": [
    "from selenium import webdriver as wb\n",
    "from selenium.webdriver.common.keys import Keys"
   ]
  },
  {
   "cell_type": "code",
   "execution_count": 3,
   "metadata": {},
   "outputs": [],
   "source": [
    "#웹 브라우저 실행\n",
    "#http://chromedriver.chromium.org/downloads\n",
    "#driver = wb.Chrome('c:/informs/chromedriver.exe')\n",
    "driver = wb.Chrome()\n",
    "#driver = wb.Firefox('c:/informs/geckodriver.exe')\n",
    "#해당 URL을 브라우저로 실행\n",
    "url = 'https://www.naver.com'\n",
    "driver.get(url)"
   ]
  },
  {
   "cell_type": "code",
   "execution_count": 4,
   "metadata": {},
   "outputs": [],
   "source": [
    "#검색창 태그(요소) 검색\n",
    "input_search = driver.find_element_by_id('query')\n",
    "\n",
    "#검색창에 입력\n",
    "input_search.send_keys('광주날씨')"
   ]
  },
  {
   "cell_type": "code",
   "execution_count": 5,
   "metadata": {},
   "outputs": [],
   "source": [
    "#여기밑으로는 뉴스와 네이버실시간검색 후 사용하자\n",
    "input_search.send_keys(Keys.ENTER)"
   ]
  },
  {
   "cell_type": "code",
   "execution_count": 12,
   "metadata": {},
   "outputs": [],
   "source": [
    "#referer 제어\n",
    "#driver.back()\n",
    "#driver.forward()"
   ]
  },
  {
   "cell_type": "code",
   "execution_count": 9,
   "metadata": {},
   "outputs": [],
   "source": [
    "#검색버튼 태그(요소) 검색\n",
    "btn_search = driver.find_element_by_id('search_btn')\n",
    "#검색버튼 클릭\n",
    "btn_search.click()\n"
   ]
  },
  {
   "cell_type": "markdown",
   "metadata": {},
   "source": [
    "# 셀레늄-뉴스 제목, 내용가져오기"
   ]
  },
  {
   "cell_type": "code",
   "execution_count": 1,
   "metadata": {},
   "outputs": [],
   "source": [
    "from selenium import webdriver as wb\n",
    "from selenium.webdriver.common.keys import Keys\n",
    "from bs4 import BeautifulSoup as bs\n",
    "import time\n",
    "import pandas as pd\n",
    "import requests as req"
   ]
  },
  {
   "cell_type": "code",
   "execution_count": 5,
   "metadata": {},
   "outputs": [],
   "source": [
    "url = 'https://news.naver.com/main/ranking/read.nhn?mid=etc&sid1=111&oid=015&aid=0004396661'\n",
    "driver = wb.Chrome()\n",
    "driver.get(url)\n",
    "#driver.page_source : 웹 페이지의 데이터(==res.text)\n",
    "soup = bs(driver.page_source,'html.parser')"
   ]
  },
  {
   "cell_type": "code",
   "execution_count": 6,
   "metadata": {},
   "outputs": [
    {
     "name": "stdout",
     "output_type": "stream",
     "text": [
      "제목: [단독] '유튜브로 수익' 국내 5만명…꿈의 '월 7백'은 몇명?\n",
      "내용: 플레이보드, 유튜브 통계 분석구독자 1천명·年4천시간 넘어야영상에 유료 광고 붙일 수 있어年 억대수입 올리는 채널 331개  '유튜버 되기 강좌' 수강생 북적구독자·조회수 조작 등 부작용도한국에서 개설된 개인 유튜브 채널 중 광고 수익을 올리는 채널이 5만 개가 넘는 것으로 나타났다. 이 가운데 연수입 8000만원 이상으로 추정되는 구독자 수 10만 명 이상 채널은 3800여 개로 조사됐다. 유튜버(유튜브 운영자)가 고수익이 가능한 직업으로 주목받으면서 이 시장에 뛰어드는 사람도 늘어나고 있다. ‘대박’ 유튜버는 4000명 밑돌아11일 유튜브 통계분석 전문 스타트업인 플레이보드에 따르면 지난 8일 기준 유튜브에서 광고 수입을 받는 국내 유튜브 채널은 5만5847개로 집계됐다. 유튜브 동영상에 광고를 붙일 수 있는 기준인 구독자 수 1000명과 연간 누적 시청 시간 4000시간 이상을 충족한 것으로 추정된 채널들이다.플레이보드는 유튜브의 각종 추천 영상에 노출된 전체 영상을 전수 조사했다. 광고가 가능한 국내 채널 중 유튜브로부터 확인 인증을 받은 기업 채널 등을 제외하면 5만4770개다. 관련 인증을 받지 않은 엔터테인먼트업체, 방송사 등 기업형 채널을 제외한 개인 유튜버 채널은 5만 개 정도로 추정된다. 국내 방송업 종사자 수 5만2312명(지난해 말 한국콘텐츠진흥원 조사 기준)과 맞먹는 규모다. 그만큼 유튜브로 돈을 벌려는 한국인이 많다는 뜻이다.유튜버업계에서 광고 수입 월 700만원 이상으로 추정돼 ‘대박’으로 불리는 구독자 10만 명 이상 채널은 3829개였다. 광고가 붙는 국내 전체 채널의 6.8%에 그쳤다. 구독자 1만 명 이상인 채널은 1만7253개였다. 구독자 100만 명 이상을 확보해 연간 수입이 수억원에 달하는 한국 채널 수는 331개로 집계됐다.글로벌 전체로 보면 광고가 붙는 유튜브 채널 수에서 한국은 세계 8위 수준이다. 미국이 39만6513개로 1위였고 다음은 인도(27만8630개), 브라질(18만8746개), 인도네시아(14만1041개), 러시아(1만9214개) 등의 순이었다. 구독자 1억 명이 넘어 유튜브로부터 ‘레드 다이아몬드’ 버튼을 받은 유튜브 채널은 미국의 ‘퓨디파이’와 인도의 ‘티 시리즈(T-Series)’ 등 두 개다. 구독자 5000만 명 이상으로 ‘루비 버튼’을 받은 채널은 10개였다. 구독자 수 조작도 ‘활개’유튜브로 돈을 벌려는 사람은 계속 증가할 전망이다. 국내에서는 몇 년 전부터 관련 사설 학원과 교육 과정을 제공하는 기관이 늘고 있다. 지난 6월 서울 중부여성발전센터가 모집한 20명 정원의 유튜버 교육 과정에 80명 이상이 몰렸다. 대학에는 관련 학과도 생겼다. 세종사이버대와 남예종예술실용전문학교는 올해 유튜브 관련 학과를 새로 개설했다. 한양사이버대도 올해 광고미디어학과를 광고영상창작학과로 바꿔 1인 방송 크리에이터를 양성하고 있다.부작용도 나타나고 있다. 짧은 시간에 유튜브로 광고 수익을 올리기 위해 구독자나 조회 수를 허위로 늘려주는 업체가 성행하고 있다. 구글에서 ‘유튜브 구독자 구매’ 등을 검색하면 관련 업체가 쏟아져 나온다. 이들 업체는 보통 10명 이상의 직원이나 아르바이트생을 고용해 영업한다. 업체에 따라 다르지만 시세는 대략 조회 수 1000회에 5000~1만원, 구독자 100명당 1만~2만원 정도다. 이들 업체가 늘리는 구독자는 실제 이용자가 아니다. 아르바이트생이 여러 개의 구글 계정 등을 이용해 의뢰인의 유튜브 채널 구독자를 추가해준다. 유튜버를 관리하는 국내 멀티채널네트워크(MCN) 관계자는 “유튜브가 하나의 산업으로 급격히 커지면서 관련 시장이 혼탁해지고 있다”며 “경쟁이 치열해지면서 예전만큼 고수익을 올리기 어려워졌다”고 말했다.김주완 기자 kjwan@hankyung.com▶ #믿고 보는 #기자 '한경 기자 코너'▶ 네이버에서 한국경제 뉴스를 받아보세요▶ 모바일한경 구독신청 ⓒ 한국경제 & hankyung.com, 무단전재 및 재배포 금지\n"
     ]
    }
   ],
   "source": [
    "# 뉴스의 제목, 내용 수집 후 출력\n",
    "title = soup.find('h3',id='articleTitle').text\n",
    "\n",
    "scripts = soup.findAll('script')\n",
    "\n",
    "for script in scripts:\n",
    "    script.extract()\n",
    "\n",
    "content = soup.find('div',id='articleBodyContents').text\n",
    "print(\"제목: \"+title)\n",
    "print(\"내용: \"+content.strip())"
   ]
  },
  {
   "cell_type": "markdown",
   "metadata": {},
   "source": [
    "# 네이버-datalab으로 대체"
   ]
  },
  {
   "cell_type": "code",
   "execution_count": 2,
   "metadata": {},
   "outputs": [],
   "source": [
    "url = 'https://www.naver.com/'\n",
    "\n",
    "driver = wb.Chrome()\n",
    "driver.get(url)\n",
    "\n",
    "#driver.page_source : 웹 페이지의 데이터(==res.text)\n",
    "soup = bs(driver.page_source,'html.parser')"
   ]
  },
  {
   "cell_type": "code",
   "execution_count": 3,
   "metadata": {},
   "outputs": [],
   "source": [
    "keywords = soup.find_all('span',class_='ah_k',limit=20)\n",
    "\n",
    "count=1\n",
    "for keyword in keywords:\n",
    "    print(str(count)+'.',keyword.text)\n",
    "    count+=1"
   ]
  },
  {
   "cell_type": "markdown",
   "metadata": {},
   "source": [
    "# 구글에서 검색어 입력한 후 웹 페이지 결과 띄우기"
   ]
  },
  {
   "cell_type": "code",
   "execution_count": 4,
   "metadata": {},
   "outputs": [],
   "source": [
    "url = 'http://www.google.com'\n",
    "\n",
    "driver = wb.Chrome()\n",
    "\n",
    "driver.get(url)"
   ]
  },
  {
   "cell_type": "code",
   "execution_count": 5,
   "metadata": {},
   "outputs": [],
   "source": [
    "input_text = driver.find_element_by_xpath('//*[@id=\"tsf\"]/div[2]/div[1]/div[1]/div/div[2]/input')\n",
    "#find_element_by_id\n",
    "#find_element_by_class_name"
   ]
  },
  {
   "cell_type": "code",
   "execution_count": 6,
   "metadata": {},
   "outputs": [],
   "source": [
    "input_text.send_keys('크롤링')\n",
    "input_text.send_keys(Keys.ENTER)"
   ]
  },
  {
   "cell_type": "markdown",
   "metadata": {},
   "source": [
    "# 한솥도시락의 이름,가격 정보 수집"
   ]
  },
  {
   "cell_type": "code",
   "execution_count": 7,
   "metadata": {},
   "outputs": [],
   "source": [
    "from selenium import webdriver as wb\n",
    "from bs4 import BeautifulSoup as bs\n",
    "import time\n",
    "import pandas as pd"
   ]
  },
  {
   "cell_type": "code",
   "execution_count": 8,
   "metadata": {},
   "outputs": [],
   "source": [
    "url = 'https://www.hsd.co.kr/menu/menu_list'\n",
    "driver = wb.Chrome()\n",
    "driver.get(url)"
   ]
  },
  {
   "cell_type": "code",
   "execution_count": 9,
   "metadata": {},
   "outputs": [],
   "source": [
    "#더보기 버튼요소\n",
    "btn_more = driver.find_element_by_class_name('c_05')"
   ]
  },
  {
   "cell_type": "code",
   "execution_count": 10,
   "metadata": {},
   "outputs": [],
   "source": [
    "#더보기 버튼요소를 3번 클릭하기\n",
    "for index in range(3):\n",
    "    btn_more.click()\n",
    "    time.sleep(2)  #2초 대기                       \n"
   ]
  },
  {
   "cell_type": "code",
   "execution_count": 11,
   "metadata": {},
   "outputs": [],
   "source": [
    "#모든 도시락 정보가 나온 경우 bs4로 변환\n",
    "soup = bs(driver.page_source,'html.parser')"
   ]
  },
  {
   "cell_type": "code",
   "execution_count": 12,
   "metadata": {},
   "outputs": [
    {
     "data": {
      "text/plain": [
       "(103, 103, 103)"
      ]
     },
     "execution_count": 12,
     "metadata": {},
     "output_type": "execute_result"
    }
   ],
   "source": [
    "#도시락 이름, 가격 정보를 수집 후 데이터갯수 출력\n",
    "num = []\n",
    "names = []\n",
    "prices = []\n",
    "#해당 데이터의 길이\n",
    "name = soup.findAll('h4',class_='h fz_03')\n",
    "price = soup.select('div.item-price > strong')\n",
    "#리스트에 저장\n",
    "for index in range(len(name)):\n",
    "    num.append(index+1)\n",
    "    names.append(name[index].text)\n",
    "    prices.append(price[index].text)\n",
    "    \n",
    "    #print(index+1, name[index].text, price[index].text) #데이터 확인\n",
    "    \n",
    "len(num), len(names), len(prices)#갯수 확인\n"
   ]
  },
  {
   "cell_type": "code",
   "execution_count": 13,
   "metadata": {},
   "outputs": [
    {
     "data": {
      "text/html": [
       "<div>\n",
       "<style scoped>\n",
       "    .dataframe tbody tr th:only-of-type {\n",
       "        vertical-align: middle;\n",
       "    }\n",
       "\n",
       "    .dataframe tbody tr th {\n",
       "        vertical-align: top;\n",
       "    }\n",
       "\n",
       "    .dataframe thead th {\n",
       "        text-align: right;\n",
       "    }\n",
       "</style>\n",
       "<table border=\"1\" class=\"dataframe\">\n",
       "  <thead>\n",
       "    <tr style=\"text-align: right;\">\n",
       "      <th></th>\n",
       "      <th>메뉴</th>\n",
       "      <th>가격</th>\n",
       "    </tr>\n",
       "    <tr>\n",
       "      <th>num</th>\n",
       "      <th></th>\n",
       "      <th></th>\n",
       "    </tr>\n",
       "  </thead>\n",
       "  <tbody>\n",
       "    <tr>\n",
       "      <th>1</th>\n",
       "      <td>매화(치킨, 연어구이)</td>\n",
       "      <td>10,000</td>\n",
       "    </tr>\n",
       "    <tr>\n",
       "      <th>2</th>\n",
       "      <td>매화 (순살 고등어 간장구이)</td>\n",
       "      <td>10,000</td>\n",
       "    </tr>\n",
       "    <tr>\n",
       "      <th>3</th>\n",
       "      <td>진달래</td>\n",
       "      <td>7,000</td>\n",
       "    </tr>\n",
       "    <tr>\n",
       "      <th>4</th>\n",
       "      <td>개나리(순살 고등어 간장구이)</td>\n",
       "      <td>8,000</td>\n",
       "    </tr>\n",
       "    <tr>\n",
       "      <th>5</th>\n",
       "      <td>중화 짜장볶음밥</td>\n",
       "      <td>4,700</td>\n",
       "    </tr>\n",
       "  </tbody>\n",
       "</table>\n",
       "</div>"
      ],
      "text/plain": [
       "                   메뉴      가격\n",
       "num                          \n",
       "1        매화(치킨, 연어구이)  10,000\n",
       "2    매화 (순살 고등어 간장구이)  10,000\n",
       "3                 진달래   7,000\n",
       "4    개나리(순살 고등어 간장구이)   8,000\n",
       "5            중화 짜장볶음밥   4,700"
      ]
     },
     "execution_count": 13,
     "metadata": {},
     "output_type": "execute_result"
    }
   ],
   "source": [
    "#lunchBox_info.csv로 저장하시오.\n",
    "lunchBox_info = {'num':num,'메뉴':names,'가격':prices}\n",
    "lunchBoxs = pd.DataFrame(lunchBox_info)\n",
    "\n",
    "lunchBoxs.set_index('num',inplace=True)\n",
    "\n",
    "lunchBoxs.head()"
   ]
  },
  {
   "cell_type": "code",
   "execution_count": 14,
   "metadata": {},
   "outputs": [],
   "source": [
    "lunchBoxs.to_csv('lunchBox_info.csv',encoding='euc-kr')"
   ]
  },
  {
   "cell_type": "code",
   "execution_count": 31,
   "metadata": {},
   "outputs": [],
   "source": [
    "# 한솥도시락의 이름,가격 정보 수집 end"
   ]
  },
  {
   "cell_type": "code",
   "execution_count": null,
   "metadata": {},
   "outputs": [],
   "source": []
  },
  {
   "cell_type": "code",
   "execution_count": null,
   "metadata": {},
   "outputs": [],
   "source": []
  },
  {
   "cell_type": "code",
   "execution_count": null,
   "metadata": {},
   "outputs": [],
   "source": []
  }
 ],
 "metadata": {
  "kernelspec": {
   "display_name": "Python 3",
   "language": "python",
   "name": "python3"
  },
  "language_info": {
   "codemirror_mode": {
    "name": "ipython",
    "version": 3
   },
   "file_extension": ".py",
   "mimetype": "text/x-python",
   "name": "python",
   "nbconvert_exporter": "python",
   "pygments_lexer": "ipython3",
   "version": "3.8.3"
  }
 },
 "nbformat": 4,
 "nbformat_minor": 2
}
