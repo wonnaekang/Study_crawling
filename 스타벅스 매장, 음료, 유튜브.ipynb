{
 "cells": [
  {
   "cell_type": "markdown",
   "metadata": {},
   "source": [
    "# 스타벅스 매장 지점명, 주소, 번호 정보 수집"
   ]
  },
  {
   "cell_type": "code",
   "execution_count": 6,
   "metadata": {},
   "outputs": [],
   "source": [
    "from selenium import webdriver as wb #셀레니움 웹드라이버 임포트\n",
    "from bs4 import BeautifulSoup as bs  #뷰티풀숲 임포트\n",
    "import time #타임\n",
    "import pandas as pd #판다스"
   ]
  },
  {
   "cell_type": "code",
   "execution_count": 4,
   "metadata": {},
   "outputs": [],
   "source": [
    "url = 'http://www.istarbucks.co.kr/store/store_map.do' #주소설정\n",
    "#driver = wb.Chrome('c:/informs/chromedriver.exe') #크롬 드라이버 설정\n",
    "driver = wb.Chrome() #크롬 드라이버 설정\n",
    "driver.get(url) #드라이버를 통해 웹 정보 수신"
   ]
  },
  {
   "cell_type": "code",
   "execution_count": 5,
   "metadata": {},
   "outputs": [],
   "source": [
    "#지역검색 버튼 클릭\n",
    "\n",
    "\n",
    "\n",
    "\n",
    "btn_search = driver.find_element_by_class_name('loca_search')\n",
    "#btn_search = driver.find_element_by_xpath('//*[@id=\"container\"]/div/form/fieldset/div/section/article[1]/article/header[2]/h3/a')\n",
    "btn_search.click()"
   ]
  },
  {
   "cell_type": "code",
   "execution_count": 6,
   "metadata": {},
   "outputs": [],
   "source": [
    "#광주지역 클릭\n",
    "\n",
    "\n",
    "\n",
    "\n",
    "\n",
    "\n",
    "li = driver.find_element_by_css_selector('ul.sido_arae_box > li + li + li')\n",
    "li.click()"
   ]
  },
  {
   "cell_type": "code",
   "execution_count": 7,
   "metadata": {},
   "outputs": [],
   "source": [
    "#광주지역에서 전체지역 클릭\n",
    "\n",
    "\n",
    "\n",
    "\n",
    "\n",
    "\n",
    "allArea = driver.find_element_by_css_selector('ul.gugun_arae_box > li')\n",
    "allArea.click()"
   ]
  },
  {
   "cell_type": "code",
   "execution_count": 9,
   "metadata": {},
   "outputs": [],
   "source": [
    "soup = bs(driver.page_source,'html.parser')#BeautifulSoup으로 웹 페이지 해석"
   ]
  },
  {
   "cell_type": "code",
   "execution_count": 10,
   "metadata": {},
   "outputs": [
    {
     "name": "stdout",
     "output_type": "stream",
     "text": [
      "57 57\n"
     ]
    }
   ],
   "source": [
    "#지점명, 주소, 번호 수집\n",
    "\n",
    "\n",
    "\n",
    "\n",
    "\n",
    "\n",
    "\n",
    "name_list = []\n",
    "addr_list = []\n",
    "tel_list = []\n",
    "\n",
    "# names = soup.select('li.quickResultLstCon > strong')\n",
    "names = soup.select('#mCSB_3_container > .quickSearchResultBoxSidoGugun > li > strong')\n",
    "# addrs = soup.findAll('p',class_='result_details')\n",
    "addrs = soup.select('#mCSB_3_container > .quickSearchResultBoxSidoGugun > li > strong + p')\n",
    "print(len(names), len(addrs))\n",
    "\n",
    "for index in range(len(names)):\n",
    "    name_list.append(names[index].text)\n",
    "    addr_list.append(addrs[index].text[:-12])\n",
    "    tel_list.append(addrs[index].text[-12:])\n"
   ]
  },
  {
   "cell_type": "code",
   "execution_count": 11,
   "metadata": {},
   "outputs": [
    {
     "data": {
      "text/html": [
       "<div>\n",
       "<style scoped>\n",
       "    .dataframe tbody tr th:only-of-type {\n",
       "        vertical-align: middle;\n",
       "    }\n",
       "\n",
       "    .dataframe tbody tr th {\n",
       "        vertical-align: top;\n",
       "    }\n",
       "\n",
       "    .dataframe thead th {\n",
       "        text-align: right;\n",
       "    }\n",
       "</style>\n",
       "<table border=\"1\" class=\"dataframe\">\n",
       "  <thead>\n",
       "    <tr style=\"text-align: right;\">\n",
       "      <th></th>\n",
       "      <th>name</th>\n",
       "      <th>address</th>\n",
       "      <th>tel</th>\n",
       "    </tr>\n",
       "  </thead>\n",
       "  <tbody>\n",
       "    <tr>\n",
       "      <td>0</td>\n",
       "      <td>광주운남DT</td>\n",
       "      <td>광주광역시 광산구 임방울대로 156 (운</td>\n",
       "      <td>남동)1522-3232</td>\n",
       "    </tr>\n",
       "    <tr>\n",
       "      <td>1</td>\n",
       "      <td>광주선운DT</td>\n",
       "      <td>광주광역시 광산구 선운로 20번길</td>\n",
       "      <td>63 1522-3232</td>\n",
       "    </tr>\n",
       "    <tr>\n",
       "      <td>2</td>\n",
       "      <td>광주산정DT</td>\n",
       "      <td>광주광역시 광산구 용아로 342 (산</td>\n",
       "      <td>정동)1522-3232</td>\n",
       "    </tr>\n",
       "    <tr>\n",
       "      <td>3</td>\n",
       "      <td>광주흑석DT</td>\n",
       "      <td>광주광역시 광산구 사암로 367 (산</td>\n",
       "      <td>정동)1522-3232</td>\n",
       "    </tr>\n",
       "    <tr>\n",
       "      <td>4</td>\n",
       "      <td>광주송정역</td>\n",
       "      <td>광주광역시 광산구 상무대로205번길 6 (송</td>\n",
       "      <td>정동)1522-3232</td>\n",
       "    </tr>\n",
       "  </tbody>\n",
       "</table>\n",
       "</div>"
      ],
      "text/plain": [
       "       name                   address           tel\n",
       "0  광주운남DT      광주광역시 광산구 임방울대로 156 (운  남동)1522-3232\n",
       "1  광주선운DT         광주광역시 광산구 선운로 20번길   63 1522-3232\n",
       "2  광주산정DT        광주광역시 광산구 용아로 342 (산  정동)1522-3232\n",
       "3  광주흑석DT        광주광역시 광산구 사암로 367 (산  정동)1522-3232\n",
       "4   광주송정역    광주광역시 광산구 상무대로205번길 6 (송  정동)1522-3232"
      ]
     },
     "execution_count": 11,
     "metadata": {},
     "output_type": "execute_result"
    }
   ],
   "source": [
    "dic = {'name':name_list, 'address':addr_list, 'tel':tel_list}\n",
    "df = pd.DataFrame(dic)\n",
    "df.head()"
   ]
  },
  {
   "cell_type": "markdown",
   "metadata": {},
   "source": [
    "## 스타벅스 모든 음료 정보 가져오기"
   ]
  },
  {
   "cell_type": "code",
   "execution_count": 36,
   "metadata": {},
   "outputs": [],
   "source": [
    "url = 'http://www.istarbucks.co.kr/menu/index.do'\n",
    "\n",
    "driver = wb.Chrome()\n",
    "driver.get(url)"
   ]
  },
  {
   "cell_type": "code",
   "execution_count": 37,
   "metadata": {},
   "outputs": [],
   "source": [
    "#자세히 보기 클릭\n",
    "\n",
    "\n",
    "\n",
    "\n",
    "\n",
    "\n",
    "\n",
    "driver.find_element_by_class_name('menu_drink_btn01').click()"
   ]
  },
  {
   "cell_type": "code",
   "execution_count": 38,
   "metadata": {},
   "outputs": [],
   "source": [
    "#영양정보 보기 클릭\n",
    "\n",
    "\n",
    "\n",
    "\n",
    "\n",
    "\n",
    "\n",
    "driver.find_element_by_class_name('a2').click()"
   ]
  },
  {
   "cell_type": "code",
   "execution_count": 39,
   "metadata": {},
   "outputs": [],
   "source": [
    "#BeautifulSoup으로 웹 페이지 해석\n",
    "\n",
    "\n",
    "\n",
    "\n",
    "\n",
    "\n",
    "soup = bs(driver.page_source,'html.parser')"
   ]
  },
  {
   "cell_type": "code",
   "execution_count": 40,
   "metadata": {},
   "outputs": [],
   "source": [
    "#항목타이틀, 모든 음료정보 수집\n",
    "\n",
    "\n",
    "\n",
    "\n",
    "\n",
    "\n",
    "\n",
    "drink_cols = soup.select('table.coffeeInfo.mb60 th',limit=7)\n",
    "drink_infos = soup.select('table.coffeeInfo.mb60 td')"
   ]
  },
  {
   "cell_type": "code",
   "execution_count": null,
   "metadata": {},
   "outputs": [],
   "source": [
    "\"\"\"방법1\"\"\"\n",
    "df_col = []\n",
    "for index in range(1,len(drink_cols)):\n",
    "    df_col.append(drink_cols[index].text)\n",
    "    print(drink_cols[index].text)"
   ]
  },
  {
   "cell_type": "code",
   "execution_count": 24,
   "metadata": {},
   "outputs": [
    {
     "data": {
      "text/html": [
       "<div>\n",
       "<style scoped>\n",
       "    .dataframe tbody tr th:only-of-type {\n",
       "        vertical-align: middle;\n",
       "    }\n",
       "\n",
       "    .dataframe tbody tr th {\n",
       "        vertical-align: top;\n",
       "    }\n",
       "\n",
       "    .dataframe thead th {\n",
       "        text-align: right;\n",
       "    }\n",
       "</style>\n",
       "<table border=\"1\" class=\"dataframe\">\n",
       "  <thead>\n",
       "    <tr style=\"text-align: right;\">\n",
       "      <th></th>\n",
       "      <th>칼로리(Kcal)</th>\n",
       "      <th>당류(g)</th>\n",
       "      <th>단백질(g)</th>\n",
       "      <th>나트륨(mg)</th>\n",
       "      <th>포화지방(g)</th>\n",
       "      <th>카페인(mg)</th>\n",
       "    </tr>\n",
       "    <tr>\n",
       "      <th>메뉴</th>\n",
       "      <th></th>\n",
       "      <th></th>\n",
       "      <th></th>\n",
       "      <th></th>\n",
       "      <th></th>\n",
       "      <th></th>\n",
       "    </tr>\n",
       "  </thead>\n",
       "  <tbody>\n",
       "    <tr>\n",
       "      <td>나이트로 바닐라 크림</td>\n",
       "      <td>75</td>\n",
       "      <td>10</td>\n",
       "      <td>1</td>\n",
       "      <td>20</td>\n",
       "      <td>2</td>\n",
       "      <td>245</td>\n",
       "    </tr>\n",
       "  </tbody>\n",
       "</table>\n",
       "</div>"
      ],
      "text/plain": [
       "            칼로리(Kcal) 당류(g) 단백질(g) 나트륨(mg) 포화지방(g) 카페인(mg)\n",
       "메뉴                                                        \n",
       "나이트로 바닐라 크림        75    10      1      20       2     245"
      ]
     },
     "execution_count": 24,
     "metadata": {},
     "output_type": "execute_result"
    }
   ],
   "source": [
    "\"\"\"방법2 - 과정 복잡도 높으므로 패스\"\"\"\n",
    "# 태그를 제외하고 값만 넣음\n",
    "drink_info_texts = [] \n",
    "for tag in drink_infos:\n",
    "    drink_info_texts.append(tag.text)\n",
    "    \n",
    "# 데이터프레임으로 만들기위해 2차원으로 만들기\n",
    "drink_2dim_list = []\n",
    "for i in range(len(drink_info_texts)//7):\n",
    "    drink_2dim_list.append(drink_info_texts[i*7:i*7+7])\n",
    "    \n",
    "# 컬럼 추출\n",
    "df_col = [] \n",
    "for index in range(len(drink_cols)):\n",
    "    df_col.append(drink_cols[index].text)\n",
    "    \n",
    "#컬럼만 있는 빈 데이터프레임\n",
    "df = pd.DataFrame(drink_2dim_list, columns=df_col)\n",
    "df.head(1)\n",
    "\n",
    "#컬럼 메뉴를 인덱스로\n",
    "df.set_index(\"메뉴\", inplace=True)\n",
    "df.head(1)"
   ]
  },
  {
   "cell_type": "code",
   "execution_count": 41,
   "metadata": {},
   "outputs": [
    {
     "name": "stdout",
     "output_type": "stream",
     "text": [
      "칼로리(Kcal)\n",
      "당류(g)\n",
      "단백질(g)\n",
      "나트륨(mg)\n",
      "포화지방(g)\n",
      "카페인(mg)\n"
     ]
    }
   ],
   "source": []
  },
  {
   "cell_type": "code",
   "execution_count": 42,
   "metadata": {},
   "outputs": [
    {
     "data": {
      "text/html": [
       "<div>\n",
       "<style scoped>\n",
       "    .dataframe tbody tr th:only-of-type {\n",
       "        vertical-align: middle;\n",
       "    }\n",
       "\n",
       "    .dataframe tbody tr th {\n",
       "        vertical-align: top;\n",
       "    }\n",
       "\n",
       "    .dataframe thead th {\n",
       "        text-align: right;\n",
       "    }\n",
       "</style>\n",
       "<table border=\"1\" class=\"dataframe\">\n",
       "  <thead>\n",
       "    <tr style=\"text-align: right;\">\n",
       "      <th></th>\n",
       "      <th>칼로리(Kcal)</th>\n",
       "      <th>당류(g)</th>\n",
       "      <th>단백질(g)</th>\n",
       "      <th>나트륨(mg)</th>\n",
       "      <th>포화지방(g)</th>\n",
       "      <th>카페인(mg)</th>\n",
       "    </tr>\n",
       "  </thead>\n",
       "  <tbody>\n",
       "  </tbody>\n",
       "</table>\n",
       "</div>"
      ],
      "text/plain": [
       "Empty DataFrame\n",
       "Columns: [칼로리(Kcal), 당류(g), 단백질(g), 나트륨(mg), 포화지방(g), 카페인(mg)]\n",
       "Index: []"
      ]
     },
     "execution_count": 42,
     "metadata": {},
     "output_type": "execute_result"
    }
   ],
   "source": [
    "#컬럼만 있는 빈 데이터프레임\n",
    "df = pd.DataFrame(columns=df_col)\n",
    "df"
   ]
  },
  {
   "cell_type": "code",
   "execution_count": 43,
   "metadata": {},
   "outputs": [
    {
     "data": {
      "text/html": [
       "<div>\n",
       "<style scoped>\n",
       "    .dataframe tbody tr th:only-of-type {\n",
       "        vertical-align: middle;\n",
       "    }\n",
       "\n",
       "    .dataframe tbody tr th {\n",
       "        vertical-align: top;\n",
       "    }\n",
       "\n",
       "    .dataframe thead th {\n",
       "        text-align: right;\n",
       "    }\n",
       "</style>\n",
       "<table border=\"1\" class=\"dataframe\">\n",
       "  <thead>\n",
       "    <tr style=\"text-align: right;\">\n",
       "      <th></th>\n",
       "      <th>칼로리(Kcal)</th>\n",
       "      <th>당류(g)</th>\n",
       "      <th>단백질(g)</th>\n",
       "      <th>나트륨(mg)</th>\n",
       "      <th>포화지방(g)</th>\n",
       "      <th>카페인(mg)</th>\n",
       "    </tr>\n",
       "  </thead>\n",
       "  <tbody>\n",
       "    <tr>\n",
       "      <td>나이트로 바닐라 크림</td>\n",
       "      <td>75</td>\n",
       "      <td>10</td>\n",
       "      <td>1</td>\n",
       "      <td>20</td>\n",
       "      <td>2</td>\n",
       "      <td>245</td>\n",
       "    </tr>\n",
       "  </tbody>\n",
       "</table>\n",
       "</div>"
      ],
      "text/plain": [
       "            칼로리(Kcal) 당류(g) 단백질(g) 나트륨(mg) 포화지방(g) 카페인(mg)\n",
       "나이트로 바닐라 크림        75    10      1      20       2     245"
      ]
     },
     "execution_count": 43,
     "metadata": {},
     "output_type": "execute_result"
    }
   ],
   "source": [
    "#한줄씩 추가 연습함\n",
    "df.loc[drink_infos[0].text] = [drink_infos[1].text,drink_infos[2].text,drink_infos[3].text,drink_infos[4].text,drink_infos[5].text,drink_infos[6].text]\n",
    "df"
   ]
  },
  {
   "cell_type": "code",
   "execution_count": 44,
   "metadata": {},
   "outputs": [],
   "source": [
    "#반복문 돌려서 모든 행 넣어줌\n",
    "for index in range(int(len(drink_infos)/7)):\n",
    "    df.loc[drink_infos[(index*7)].text] = [drink_infos[(index*7)+1].text,drink_infos[(index*7)+2].text,drink_infos[(index*7)+3].text,drink_infos[(index*7)+4].text,drink_infos[(index*7)+5].text,drink_infos[(index*7)+6].text]"
   ]
  },
  {
   "cell_type": "code",
   "execution_count": 45,
   "metadata": {},
   "outputs": [
    {
     "data": {
      "text/html": [
       "<div>\n",
       "<style scoped>\n",
       "    .dataframe tbody tr th:only-of-type {\n",
       "        vertical-align: middle;\n",
       "    }\n",
       "\n",
       "    .dataframe tbody tr th {\n",
       "        vertical-align: top;\n",
       "    }\n",
       "\n",
       "    .dataframe thead th {\n",
       "        text-align: right;\n",
       "    }\n",
       "</style>\n",
       "<table border=\"1\" class=\"dataframe\">\n",
       "  <thead>\n",
       "    <tr style=\"text-align: right;\">\n",
       "      <th></th>\n",
       "      <th>칼로리(Kcal)</th>\n",
       "      <th>당류(g)</th>\n",
       "      <th>단백질(g)</th>\n",
       "      <th>나트륨(mg)</th>\n",
       "      <th>포화지방(g)</th>\n",
       "      <th>카페인(mg)</th>\n",
       "    </tr>\n",
       "  </thead>\n",
       "  <tbody>\n",
       "    <tr>\n",
       "      <td>나이트로 바닐라 크림</td>\n",
       "      <td>75</td>\n",
       "      <td>10</td>\n",
       "      <td>1</td>\n",
       "      <td>20</td>\n",
       "      <td>2</td>\n",
       "      <td>245</td>\n",
       "    </tr>\n",
       "    <tr>\n",
       "      <td>나이트로 쇼콜라 클라우드</td>\n",
       "      <td>55</td>\n",
       "      <td>7</td>\n",
       "      <td>1</td>\n",
       "      <td>20</td>\n",
       "      <td>2</td>\n",
       "      <td>245</td>\n",
       "    </tr>\n",
       "    <tr>\n",
       "      <td>나이트로 콜드 브루</td>\n",
       "      <td>5</td>\n",
       "      <td>0</td>\n",
       "      <td>0</td>\n",
       "      <td>5</td>\n",
       "      <td>0</td>\n",
       "      <td>245</td>\n",
       "    </tr>\n",
       "    <tr>\n",
       "      <td>돌체 콜드 브루</td>\n",
       "      <td>265</td>\n",
       "      <td>29</td>\n",
       "      <td>8</td>\n",
       "      <td>115</td>\n",
       "      <td>9</td>\n",
       "      <td>150</td>\n",
       "    </tr>\n",
       "    <tr>\n",
       "      <td>바닐라 크림 콜드 브루</td>\n",
       "      <td>125</td>\n",
       "      <td>11</td>\n",
       "      <td>3</td>\n",
       "      <td>58</td>\n",
       "      <td>6</td>\n",
       "      <td>150</td>\n",
       "    </tr>\n",
       "  </tbody>\n",
       "</table>\n",
       "</div>"
      ],
      "text/plain": [
       "              칼로리(Kcal) 당류(g) 단백질(g) 나트륨(mg) 포화지방(g) 카페인(mg)\n",
       "나이트로 바닐라 크림          75    10      1      20       2     245\n",
       "나이트로 쇼콜라 클라우드        55     7      1      20       2     245\n",
       "나이트로 콜드 브루            5     0      0       5       0     245\n",
       "돌체 콜드 브루            265    29      8     115       9     150\n",
       "바닐라 크림 콜드 브루        125    11      3      58       6     150"
      ]
     },
     "execution_count": 45,
     "metadata": {},
     "output_type": "execute_result"
    }
   ],
   "source": [
    "df.head()"
   ]
  },
  {
   "cell_type": "code",
   "execution_count": 46,
   "metadata": {},
   "outputs": [],
   "source": [
    "df.to_csv('drink.csv')"
   ]
  },
  {
   "cell_type": "markdown",
   "metadata": {},
   "source": [
    "# 웹 페이지 스크롤링\n",
    "### -->  Keys.PAGE_DOWN 활용"
   ]
  },
  {
   "cell_type": "code",
   "execution_count": 7,
   "metadata": {},
   "outputs": [],
   "source": [
    "from selenium import webdriver\n",
    "from selenium.webdriver.common.keys import Keys\n",
    "from bs4 import BeautifulSoup as bs\n",
    "import pandas as pd\n",
    "import time"
   ]
  },
  {
   "cell_type": "code",
   "execution_count": 52,
   "metadata": {},
   "outputs": [],
   "source": [
    "url = 'https://www.google.com/search?source=hp&ei=-QZ1W6XKH4ui8AWe6oOgAQ&q=빅데이터&gs_l=psy-ab.3..0l10.3446.6828.0.6945.11.9.0.1.1.0.178.797.1j5.6.0....0...1c.1j4.64.psy-ab..6.5.589...0i131k1j0i10k1.0.onTVEC6H7No'\n",
    "driver = wb.Chrome()\n",
    "driver.get(url)"
   ]
  },
  {
   "cell_type": "code",
   "execution_count": 57,
   "metadata": {},
   "outputs": [],
   "source": [
    "#웹 페이지를 3번 스크롤링하시오.\n",
    "\n",
    "\n",
    "\n",
    "\n",
    "\n",
    "\n",
    "\n",
    "\n",
    "\n",
    "#<body>태그 검색\n",
    "body = driver.find_element_by_tag_name('body')\n",
    "for i in range(3):\n",
    "    body.send_keys(Keys.PAGE_DOWN)\n",
    "    time.sleep(2)"
   ]
  },
  {
   "cell_type": "markdown",
   "metadata": {},
   "source": [
    "# 유튜브 정보 수집\n",
    "### --> 영상제목 / 영상주소 / 조회수 "
   ]
  },
  {
   "cell_type": "code",
   "execution_count": 8,
   "metadata": {},
   "outputs": [],
   "source": [
    "url_main = 'https://www.youtube.com'\n",
    "url_sub = '/results?search_query='\n",
    "query = '무한도전'\n",
    "driver = wb.Chrome()\n",
    "driver.get(url_main+url_sub+query)"
   ]
  },
  {
   "cell_type": "code",
   "execution_count": 9,
   "metadata": {},
   "outputs": [],
   "source": [
    "#현재 페이지에서 60번 스크롤링\n",
    "for index in range(5):\n",
    "    body = driver.find_element_by_tag_name('body')\n",
    "    body.send_keys(Keys.PAGE_DOWN)\n",
    "    time.sleep(1)"
   ]
  },
  {
   "cell_type": "code",
   "execution_count": 10,
   "metadata": {},
   "outputs": [],
   "source": [
    "soup = bs(driver.page_source,'html.parser')"
   ]
  },
  {
   "cell_type": "code",
   "execution_count": 19,
   "metadata": {},
   "outputs": [
    {
     "name": "stdout",
     "output_type": "stream",
     "text": [
      "영상 개수 : 38\n",
      "영상 제목 : [8月의 무도] 👉나영이의 선택👈 끝나지 않는 😱지옥에서 온 매력 발산🕺 “개그동아리 MT” 2편 infinite challenge\n",
      "영상 주소 : https://www.youtube.com/watch?v=Bfr6W8NcMhA\n"
     ]
    },
    {
     "data": {
      "text/plain": [
       "(38, 38, 38)"
      ]
     },
     "execution_count": 19,
     "metadata": {},
     "output_type": "execute_result"
    }
   ],
   "source": [
    "#영상제목 / 영상주소 / 조회수 /게시일/영상길이/작성자\n",
    "\n",
    "nums = []\n",
    "titles = []\n",
    "video_urls = []\n",
    "views = []\n",
    "days=[]\n",
    "\n",
    "\n",
    "titles = soup.findAll('a',id='video-title')\n",
    "views = soup.select('#metadata-line > span')\n",
    "#days=select('div:nth-child(2)')\n",
    "\n",
    "#데이터 확인 샘플 1개\n",
    "print('영상 개수 :',len(titles))\n",
    "print('영상 제목 :',titles[0].text.strip())\n",
    "print('영상 주소 :',url_main+titles[0]['href'])\n",
    "#print('조회수 : ',views[0].text)\n",
    "view_list = []\n",
    "for i in range(len(views)):\n",
    "    #print(views[i].text) #조회수, 게시일 모두 포함\n",
    "    #조회수와 게시일 분리\n",
    "    if i%2==0: #조회수만 저장\n",
    "        view_list.append(views[i].text)\n",
    "        #view_list.append(views[i].text[4:])\n",
    "        #print(views[i].text[4:])\n",
    "        \n",
    "        \n",
    "title_list = []\n",
    "url_list = []\n",
    "#day_list=[]\n",
    "for index in range(len(titles)):\n",
    "    title_list.append(titles[index].text.strip())\n",
    "    url_list.append(url_main+titles[index]['href'])\n",
    "  #  day_list.append(days[index].text.strip())\n",
    "len(title_list), len(url_list), len(view_list)#, len(day_list)\n"
   ]
  },
  {
   "cell_type": "code",
   "execution_count": 53,
   "metadata": {},
   "outputs": [],
   "source": [
    "#view_list.append(\"가라로 넣어버리기~\")"
   ]
  },
  {
   "cell_type": "code",
   "execution_count": 18,
   "metadata": {},
   "outputs": [
    {
     "data": {
      "text/html": [
       "<div>\n",
       "<style scoped>\n",
       "    .dataframe tbody tr th:only-of-type {\n",
       "        vertical-align: middle;\n",
       "    }\n",
       "\n",
       "    .dataframe tbody tr th {\n",
       "        vertical-align: top;\n",
       "    }\n",
       "\n",
       "    .dataframe thead th {\n",
       "        text-align: right;\n",
       "    }\n",
       "</style>\n",
       "<table border=\"1\" class=\"dataframe\">\n",
       "  <thead>\n",
       "    <tr style=\"text-align: right;\">\n",
       "      <th></th>\n",
       "      <th>제목</th>\n",
       "      <th>주소</th>\n",
       "      <th>조회수</th>\n",
       "    </tr>\n",
       "  </thead>\n",
       "  <tbody>\n",
       "    <tr>\n",
       "      <th>0</th>\n",
       "      <td>[8月의 무도] 👉나영이의 선택👈 끝나지 않는 😱지옥에서 온 매력 발산🕺 “개그동아...</td>\n",
       "      <td>https://www.youtube.com/watch?v=Bfr6W8NcMhA</td>\n",
       "      <td>조회수 6.3만회</td>\n",
       "    </tr>\n",
       "    <tr>\n",
       "      <th>1</th>\n",
       "      <td>괜찮아요 안 물어요~ 쓸개도 항문도 일부 없지만 광기는 있는 노홍철 모음.zip |...</td>\n",
       "      <td>https://www.youtube.com/watch?v=Ped3crmspe8</td>\n",
       "      <td>조회수 12만회</td>\n",
       "    </tr>\n",
       "    <tr>\n",
       "      <th>2</th>\n",
       "      <td>[8月의 무도] 우리 재석이가 화가 (많이) 났어요👿 흑화한 재석, 그리고 배신과 ...</td>\n",
       "      <td>https://www.youtube.com/watch?v=XyPJq4ukAyE</td>\n",
       "      <td>조회수 34만회</td>\n",
       "    </tr>\n",
       "    <tr>\n",
       "      <th>3</th>\n",
       "      <td>🎉경 존버당 축🎉 정준하 결혼 프로젝트? 사실은 멤버들의 씹뜯맛즐 티키타카! ＂짱가...</td>\n",
       "      <td>https://www.youtube.com/watch?v=AjzzKfVg260</td>\n",
       "      <td>조회수 41만회</td>\n",
       "    </tr>\n",
       "    <tr>\n",
       "      <th>4</th>\n",
       "      <td>[8月의 무도] 🌟나영이를 지켜라!🌟 79학번 전설의 선배들과 함께 떠나는 “개그동...</td>\n",
       "      <td>https://www.youtube.com/watch?v=lvq2Lv2ixeo</td>\n",
       "      <td>조회수 19만회</td>\n",
       "    </tr>\n",
       "  </tbody>\n",
       "</table>\n",
       "</div>"
      ],
      "text/plain": [
       "                                                  제목  \\\n",
       "0  [8月의 무도] 👉나영이의 선택👈 끝나지 않는 😱지옥에서 온 매력 발산🕺 “개그동아...   \n",
       "1  괜찮아요 안 물어요~ 쓸개도 항문도 일부 없지만 광기는 있는 노홍철 모음.zip |...   \n",
       "2  [8月의 무도] 우리 재석이가 화가 (많이) 났어요👿 흑화한 재석, 그리고 배신과 ...   \n",
       "3  🎉경 존버당 축🎉 정준하 결혼 프로젝트? 사실은 멤버들의 씹뜯맛즐 티키타카! ＂짱가...   \n",
       "4  [8月의 무도] 🌟나영이를 지켜라!🌟 79학번 전설의 선배들과 함께 떠나는 “개그동...   \n",
       "\n",
       "                                            주소        조회수  \n",
       "0  https://www.youtube.com/watch?v=Bfr6W8NcMhA  조회수 6.3만회  \n",
       "1  https://www.youtube.com/watch?v=Ped3crmspe8   조회수 12만회  \n",
       "2  https://www.youtube.com/watch?v=XyPJq4ukAyE   조회수 34만회  \n",
       "3  https://www.youtube.com/watch?v=AjzzKfVg260   조회수 41만회  \n",
       "4  https://www.youtube.com/watch?v=lvq2Lv2ixeo   조회수 19만회  "
      ]
     },
     "execution_count": 18,
     "metadata": {},
     "output_type": "execute_result"
    }
   ],
   "source": [
    "#데이터 프레인으로 확인\n",
    "data = {'제목':title_list,'주소':url_list,'조회수':view_list}\n",
    "youtubes = pd.DataFrame(data)\n",
    "youtubes.head()"
   ]
  },
  {
   "cell_type": "code",
   "execution_count": null,
   "metadata": {
    "collapsed": true
   },
   "outputs": [],
   "source": [
    "\"\"\" key 제어\n",
    "    NULL = '\\ue000'\n",
    "    CANCEL = '\\ue001'\n",
    "    HELP = '\\ue002'\n",
    "    BACKSPACE = '\\ue003'\n",
    "    BACK_SPACE = BACKSPACE\n",
    "    TAB = '\\ue004'\n",
    "    CLEAR = '\\ue005'\n",
    "    RETURN = '\\ue006'\n",
    "    ENTER = '\\ue007'\n",
    "    SHIFT = '\\ue008'\n",
    "    LEFT_SHIFT = SHIFT\n",
    "    CONTROL = '\\ue009'\n",
    "    LEFT_CONTROL = CONTROL\n",
    "    ALT = '\\ue00a'\n",
    "    LEFT_ALT = ALT\n",
    "    PAUSE = '\\ue00b'\n",
    "    ESCAPE = '\\ue00c'\n",
    "    SPACE = '\\ue00d'\n",
    "    PAGE_UP = '\\ue00e'\n",
    "    PAGE_DOWN = '\\ue00f'\n",
    "    END = '\\ue010'\n",
    "    HOME = '\\ue011'\n",
    "    LEFT = '\\ue012'\n",
    "    ARROW_LEFT = LEFT\n",
    "    UP = '\\ue013'\n",
    "    ARROW_UP = UP\n",
    "    RIGHT = '\\ue014'\n",
    "    ARROW_RIGHT = RIGHT\n",
    "    DOWN = '\\ue015'\n",
    "    ARROW_DOWN = DOWN\n",
    "    INSERT = '\\ue016'\n",
    "    DELETE = '\\ue017'\n",
    "    SEMICOLON = '\\ue018'\n",
    "    EQUALS = '\\ue019'\n",
    "\n",
    "    NUMPAD0 = '\\ue01a'\n",
    "    NUMPAD1 = '\\ue01b'\n",
    "    NUMPAD2 = '\\ue01c'\n",
    "    NUMPAD3 = '\\ue01d'\n",
    "    NUMPAD4 = '\\ue01e'\n",
    "    NUMPAD5 = '\\ue01f'\n",
    "    NUMPAD6 = '\\ue020'\n",
    "    NUMPAD7 = '\\ue021'\n",
    "    NUMPAD8 = '\\ue022'\n",
    "    NUMPAD9 = '\\ue023'\n",
    "    MULTIPLY = '\\ue024'\n",
    "    ADD = '\\ue025'\n",
    "    SEPARATOR = '\\ue026'\n",
    "    SUBTRACT = '\\ue027'\n",
    "    DECIMAL = '\\ue028'\n",
    "    DIVIDE = '\\ue029'\n",
    "\n",
    "    F1 = '\\ue031'\n",
    "    F2 = '\\ue032'\n",
    "    F3 = '\\ue033'\n",
    "    F4 = '\\ue034'\n",
    "    F5 = '\\ue035'\n",
    "    F6 = '\\ue036'\n",
    "    F7 = '\\ue037'\n",
    "    F8 = '\\ue038'\n",
    "    F9 = '\\ue039'\n",
    "    F10 = '\\ue03a'\n",
    "    F11 = '\\ue03b'\n",
    "    F12 = '\\ue03c'\n",
    "\n",
    "    META = '\\ue03d'\n",
    "    COMMAND = '\\ue03d'\n",
    "\"\"\""
   ]
  }
 ],
 "metadata": {
  "kernelspec": {
   "display_name": "Python 3",
   "language": "python",
   "name": "python3"
  },
  "language_info": {
   "codemirror_mode": {
    "name": "ipython",
    "version": 3
   },
   "file_extension": ".py",
   "mimetype": "text/x-python",
   "name": "python",
   "nbconvert_exporter": "python",
   "pygments_lexer": "ipython3",
   "version": "3.8.3"
  }
 },
 "nbformat": 4,
 "nbformat_minor": 2
}
